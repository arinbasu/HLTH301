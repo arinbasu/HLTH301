{
 "cells": [
  {
   "cell_type": "markdown",
   "metadata": {
    "collapsed": false
   },
   "source": [
    "## How to set up Ublend for the first time\n",
    "\n",
    "We will use Ublend to send you push notifications for this class. Ublend is a  is a safe and closed space to get your unanswered questions resolved and share relevant content. You can create your own workgroups and spaces if you want. \n",
    "\n",
    "When you click on the link for the first time it will ask you to register, and you will see a screen like this:\n",
    "\n",
    "![Ublend Screen 1](http://i.imgur.com/N4eSjl5.jpg)\n",
    "\n",
    "Click on \"JOIN A CLASS\"\n",
    "\n",
    "When you click \"JOIN A CLASS\", you will see a form where you will need to add your first name, last name, your email address (add your UC email address), and on the top you will see a field for \"Class Key\". You should enter the following code:\n",
    "\n",
    "ec7qvj\n",
    "\n",
    "After that, set a password and hit the Register button. Here is an example I have partially filled in for you (see the screenshot):\n",
    "\n",
    "![Ublend Screen 2](http://i.imgur.com/2dZl5Zk.jpg)\n",
    "\n",
    "Some of you were in HLTH214 and have your own login for Ublend. Try login with your username and password, and see if this will take you to the course page. So, instead, click on the login and you will be in the class page. \n",
    "\n",
    "Once you set up your Ublend account for the first time, just log in or create a persistent log in, so that you will not have to log in all the time. If you are working from a University computer, remember to log out after every session. \n",
    "\n"
   ]
  },
  {
   "cell_type": "code",
   "execution_count": null,
   "metadata": {
    "collapsed": true
   },
   "outputs": [],
   "source": []
  }
 ],
 "metadata": {
  "kernelspec": {
   "display_name": "Python 2 (SageMath)",
   "language": "python",
   "name": "python2"
  },
  "language_info": {
   "codemirror_mode": {
    "name": "ipython",
    "version": 2
   },
   "file_extension": ".py",
   "mimetype": "text/x-python",
   "name": "python",
   "nbconvert_exporter": "python",
   "pygments_lexer": "ipython2",
   "version": "2.7.13"
  }
 },
 "nbformat": 4,
 "nbformat_minor": 0
}
